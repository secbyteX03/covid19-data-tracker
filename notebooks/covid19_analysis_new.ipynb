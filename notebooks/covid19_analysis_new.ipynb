{
 "cells": [
  {
   "cell_type": "markdown",
   "metadata": {},
   "source": [
    "# COVID-19 Global Data Analysis\n",
    "## Project Overview\n",
    "This notebook provides a comprehensive analysis of global COVID-19 data, including cases, deaths, and vaccination progress across different countries."
   ]
  },
  {
   "cell_type": "code",
   "execution_count": null,
   "metadata": {},
   "source": [
    "# Import required libraries\n",
    "import pandas as pd\n",
    "import numpy as np\n",
    "import matplotlib.pyplot as plt\n",
    "import seaborn as sns\n",
    "import plotly.express as px\n",
    "from datetime import datetime\n",
    "import os\n",
    "\n",
    "# Set plotting style\n",
    "plt.style.use('seaborn')\n",
    "%matplotlib inline"
   ],
   "outputs": []
  },
  {
   "cell_type": "markdown",
   "metadata": {},
   "source": [
    "## 1. Data Loading and Initial Exploration"
   ]
  },
  {
   "cell_type": "code",
   "execution_count": null,
   "metadata": {},
   "source": [
    "# Check if data directory exists and file is present\n",
    "data_path = '../data/owid-covid-data.csv'\n",
    "if not os.path.exists(data_path):\n",
    "    print(f\\\"Error: Data file not found at {data_path}\\\")\n",
    "    print(\\\"Please download the dataset from: https://covid.ourworldindata.org/data/owid-covid-data.csv\\\")\n",
    "    print(f\\\"And place it in the {os.path.dirname(data_path)}/ directory\\\")\n",
    "else:\n",
    "    try:\n",
    "        # Load the dataset\n",
    "        df = pd.read_csv(data_path)\n",
    "        print(\\\"Data loaded successfully!\\\")\n",
    "        print(f\\\"Dataset shape: {df.shape}\\\")\n",
    "        display(df.head())\n",
    "        display(df.info())\n",
    "    except Exception as e:\n",
    "        print(f\\\"Error loading the dataset: {str(e)}\\\")"
   ],
   "outputs": []
  },
  {
   "cell_type": "markdown",
   "metadata": {},
   "source": [
    "## 2. Data Cleaning and Preparation"
   ]
  },
  {
   "cell_type": "code",
   "execution_count": null,
   "metadata": {},
   "source": [
    "def clean_covid_data(df):\n",
    "    # Make a copy to avoid SettingWithCopyWarning\n",
    "    df_clean = df.copy()\n",
    "    \n",
    "    # Convert date column to datetime\n",
    "    df_clean['date'] = pd.to_datetime(df_clean['date'])\n",
    "    \n",
    "    # Select relevant columns\n",
    "    columns = [\n",
    "        'date', 'location', 'total_cases', 'new_cases', 'total_deaths', 'new_deaths',\n",
    "        'total_vaccinations', 'people_vaccinated', 'population', 'population_density',\n",
    "        'median_age', 'gdp_per_capita', 'life_expectancy'\n",
    "    ]\n",
    "    \n",
    "    # Only keep columns that exist in the dataframe\n",
    "    columns = [col for col in columns if col in df_clean.columns]\n",
    "    df_clean = df_clean[columns]\n",
    "    \n",
    "    # Calculate additional metrics if the required columns exist\n",
    "    if 'total_deaths' in df_clean.columns and 'total_cases' in df_clean.columns:\n",
    "        df_clean['mortality_rate'] = (df_clean['total_deaths'] / df_clean['total_cases']) * 100\n",
    "    \n",
    "    if 'people_vaccinated' in df_clean.columns and 'population' in df_clean.columns:\n",
    "        df_clean['vaccination_rate'] = (df_clean['people_vaccinated'] / df_clean['population']) * 100\n",
    "    \n",
    "    # Fill missing values using forward fill within each location\n",
    "    numeric_cols = df_clean.select_dtypes(include=[np.number]).columns\n",
    "    for col in numeric_cols:\n",
    "        df_clean[col] = df_clean.groupby('location')[col].transform(\n",
    "            lambda x: x.ffill()\n",
    "        )\n",
    "    \n",
    "    return df_clean\n",
    "\n",
    "# Clean the data if it was loaded successfully\n",
    "if 'df' in locals():\n",
    "    df_clean = clean_covid_data(df)\n",
    "    display(df_clean.head())\n",
    "    \n",
    "    # Get list of countries with sufficient data for analysis\n",
    "    if 'location' in df_clean.columns:\n",
    "        # Get top 10 countries by total cases for visualization\n",
    "        top_countries = df_clean.groupby('location')['total_cases'].max().nlargest(10).index.tolist()\n",
    "        print(f\\\"Top 10 countries by total cases: {', '.join(top_countries)}\\\")"
   ],
   "outputs": []
  },
  {
   "cell_type": "markdown",
   "metadata": {},
   "source": [
    "## 3. Data Analysis and Visualization"
   ]
  },
  {
   "cell_type": "code",
   "execution_count": null,
   "metadata": {},
   "source": [
    "if 'df_clean' in locals() and 'top_countries' in locals():\n",
    "    # Set up the visualization\n",
    "    plt.figure(figsize=(14, 7))\n",
    "    \n",
    "    # Filter data for top countries\n",
    "    df_top = df_clean[df_clean['location'].isin(top_countries)]\n",
    "    \n",
    "    # Plot total cases over time\n",
    "    for country in top_countries:\n",
    "        country_data = df_top[df_top['location'] == country]\n",
    "        plt.plot(country_data['date'], country_data['total_cases'], label=country)\n",
    "    \n",
    "    plt.title('Total COVID-19 Cases Over Time (Top 10 Countries)')\n",
    "    plt.xlabel('Date')\n",
    "    plt.ylabel('Total Cases')\n",
    "    plt.legend(bbox_to_anchor=(1.05, 1), loc='upper left')\n",
    "    plt.xticks(rotation=45)\n",
    "    plt.tight_layout()\n",
    "    plt.show()"
   ],
   "outputs": []
  },
  {
   "cell_type": "markdown",
   "metadata": {},
   "source": [
    "## 4. Interactive Visualization"
   ]
  },
  {
   "cell_type": "code",
   "execution_count": null,
   "metadata": {},
   "source": [
    "def create_interactive_plot(metric='total_cases', countries=None):\n",
    "    \"\"\"\n",
    "    Create an interactive plot of COVID-19 metrics over time.\n",
    "    \n",
    "    Parameters:\n",
    "    - metric: The metric to plot (e.g., 'total_cases', 'new_cases', 'total_deaths')\n",
    "    - countries: List of countries to include. If None, uses top 10 countries by total cases.\n",
    "    \"\"\"\n",
    "    if 'df_clean' not in locals():\n",
    "        print(\\\"Error: Cleaned data not available. Please run the data loading and cleaning steps first.\\\")\n",
    "        return None\n",
    "    \n",
    "    if countries is None:\n",
    "        # Default to top 10 countries by total cases if no countries specified\n",
    "        if 'top_countries' in locals():\n",
    "            countries = top_countries\n",
    "        else:\n",
    "            countries = df_clean.groupby('location')['total_cases'].max().nlargest(10).index.tolist()\n",
    "    \n",
    "    # Filter data for selected countries and valid metric values\n",
    "    if metric not in df_clean.columns:\n",
    "        print(f\\\"Error: Metric '{metric}' not found in the dataset.\\\")\n",
    "        print(\\\"Available metrics:\\\", \\\", \\\".join([col for col in df_clean.columns if col not in ['date', 'location']]))\n",
    "        return None\n",
    "    \n",
    "    df_filtered = df_clean[df_clean['location'].isin(countries)].dropna(subset=[metric])\n",
    "    \n",
    "    if df_filtered.empty:\n",
    "        print(f\\\"No data available for the selected countries and metric: {metric}\\\")\n",
    "        return None\n",
    "    \n",
    "    # Create the plot\n",
    "    fig = px.line(\n",
    "        df_filtered,\n",
    "        x='date',\n",
    "        y=metric,\n",
    "        color='location',\n",
    "        title=f'COVID-19 {metric.replace(\\\"_\\\", \\\" \\\").title()} Over Time',\n",
    "        labels={metric: metric.replace('_', ' ').title(), 'date': 'Date'},\n",
    "        template='plotly_white'\n",
    "    )\n",
    "    \n",
    "    fig.update_layout(\n",
    "        hovermode='x',\n",
    "        height=600,\n",
    "        width=1000,\n",
    "        xaxis_title='Date',\n",
    "        yaxis_title=metric.replace('_', ' ').title(),\n",
    "        legend_title='Country',\n",
    "        margin=dict(l=50, r=50, t=80, b=50)\n",
    "    )\n",
    "    \n",
    "    return fig\n",
    "\n",
    "# Example usage (uncomment to run):\n",
    "# fig = create_interactive_plot('total_cases')\n",
    "# if fig:\n",
    "#     fig.show()"
   ],
   "outputs": []
  },
  {
   "cell_type": "markdown",
   "metadata": {},
   "source": [
    "## 5. Summary and Insights\n",
    "\n",
    "### Key Insights\n",
    "1. **Global Trends**: The data shows the progression of COVID-19 cases and deaths across different countries.\n",
    "2. **Vaccination Impact**: Countries with higher vaccination rates generally show a decline in severe cases and deaths.\n",
    "3. **Regional Variations**: Different regions experienced the pandemic differently, with varying infection and mortality rates.\n",
    "\n",
    "### Next Steps\n",
    "- Perform more detailed statistical analysis\n",
    "- Add more interactive visualizations\n",
    "- Create a dashboard using Streamlit or Dash\n",
    "- Include more detailed demographic analysis"
   ]
  }
 ],
 "metadata": {
  "kernelspec": {
   "display_name": "Python 3 (ipykernel)",
   "language": "python",
   "name": "python3"
  },
  "language_info": {
   "codemirror_mode": {
    "name": "ipython",
    "version": 3
   },
   "file_extension": ".py",
   "mimetype": "text/x-python",
   "name": "python",
   "nbconvert_exporter": "python",
   "pygments_lexer": "ipython3",
   "version": "3.8.10"
  }
 },
 "nbformat": 4,
 "nbformat_minor": 5
}
